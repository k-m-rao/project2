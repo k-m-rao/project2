{
 "cells": [
  {
   "cell_type": "code",
   "execution_count": 22,
   "id": "38893050",
   "metadata": {},
   "outputs": [],
   "source": [
    "import pandas as pd\n",
    "import numpy as np\n",
    "import matplotlib.pyplot as plt\n",
    "\n",
    "class recommend_netflix:\n",
    "    \n",
    "    def read_user_data(self):\n",
    "        try:\n",
    "            df = pd.read_csv('combined_data_1.txt', header=None, names=['User_Id', 'Rating'], usecols=[0, 1])\n",
    "            df['Rating'] = df['Rating'].astype(float)\n",
    "            df.index = np.arange(0, len(df))\n",
    "            return df\n",
    "        except Exception as E:\n",
    "            print(E)\n",
    "            \n",
    "\n",
    "    def EDA(self, df):\n",
    "        try:\n",
    "            p = df.groupby('Rating')['Rating'].agg(['count'])\n",
    "\n",
    "            movie_count = df.isnull().sum()[1]\n",
    "            print('Total movies = {}'.format(movie_count))\n",
    "\n",
    "            user_count = df['User_Id'].nunique() - movie_count\n",
    "            print('Total Users = {}'.format(user_count))\n",
    "\n",
    "            rating_count = df['User_Id'].count() - movie_count\n",
    "            print('Rating count= {}'.format(rating_count))\n",
    "\n",
    "            ax = p.plot(kind='barh', legend=False, figsize=(15, 10))\n",
    "            plt.title('Total Movies: {} , Total users: {} ratings given:{}'.format(movie_count, user_count,\n",
    "                                                                                           rating_count), fontsize=20)\n",
    "            plt.axis('off')\n",
    "\n",
    "            for i in range(1, 6):\n",
    "                ax.text(p.iloc[i - 1][0] / 4, i - 1, 'Rating {}: {:.0f}%'.format(i, p.iloc[i - 1][0] * 100 / p.sum()[0]),\n",
    "            color='white', weight='bold')\n",
    "\n",
    "        except Exception as E:\n",
    "            print(E)\n",
    "\n",
    "\n",
    "    def generate_movie_id(self, df):\n",
    "        '''Movie ID is extracted from first column and separate column is done'''\n",
    "        try:\n",
    "            movie_df_nan = pd.DataFrame(pd.isnull(df.Rating))\n",
    "            movie_df_nan = movie_df_nan[movie_df_nan['Rating'] == True]\n",
    "            movie_df_nan = movie_df_nan.reset_index()\n",
    "\n",
    "            movie_np = []\n",
    "            movie_id = 1\n",
    "\n",
    "            for i, j in zip(movie_df_nan['index'][1:], movie_df_nan['index'][:-1]):                \n",
    "                temp = np.full((1, i - j - 1), movie_id)\n",
    "                movie_np = np.append(movie_np, temp)\n",
    "                movie_id += 1\n",
    "\n",
    "            # Account for last record and corresponding length\n",
    "            \n",
    "            last_np = np.full((1, len(df) - movie_df_nan.iloc[-1, 0] - 1), movie_id)\n",
    "            movie_np = np.append(movie_np, last_np)\n",
    "\n",
    "            print('Movie numpy: {}'.format(movie_np))\n",
    "            print('Length: {}'.format(len(movie_np)))\n",
    "\n",
    "            # remove those Movie ID rows\n",
    "            df = df[pd.notnull(df['Rating'])]\n",
    "\n",
    "            df['Movie_Id'] = movie_np.astype(int)\n",
    "            df['User_Id'] = df['User_Id'].astype(int)\n",
    "            \n",
    "            print('-Dataset examples-')\n",
    "            print(df.iloc[::5000000, :])\n",
    "            \n",
    "            return df\n",
    "        \n",
    "        except Exception as E:\n",
    "            print(E)\n",
    "            \n",
    "\n",
    "    def reduce(self, df):\n",
    "        '''1. Delete the movie with too many reviews (they are relatively unpopular)\n",
    "        2. Remove the customer who gives too less notice (he is relatively less active)'''\n",
    "        try:\n",
    "            f = ['count', 'mean']\n",
    "\n",
    "            movie_summary = df.groupby('Movie_Id')['Rating'].agg(f)\n",
    "            movie_summary.index = movie_summary.index.map(int)\n",
    "            movie_benchmark = round(movie_summary['count'].quantile(0.7), 0)\n",
    "            drop_movie_list = movie_summary[movie_summary['count'] < movie_benchmark].index\n",
    "\n",
    "            print('Movie minimum times of review: {}'.format(movie_benchmark))\n",
    "\n",
    "            user_summary = df.groupby('User_Id')['Rating'].agg(f)\n",
    "            user_summary.index = user_summary.index.map(int)\n",
    "            cust_benchmark = round(user_summary['count'].quantile(0.7), 0)\n",
    "            drop_cust_list = user_summary[user_summary['count'] < cust_benchmark].index\n",
    "\n",
    "            print('Original Shape: {}'.format(df.shape))\n",
    "            df = df[~df['Movie_Id'].isin(drop_movie_list)]\n",
    "            df = df[~df['User_Id'].isin(drop_cust_list)]\n",
    "            print('After Trim Shape: {}'.format(df.shape))\n",
    "            print('-Data Examples-')\n",
    "            print(df.iloc[::5000000, :])\n",
    "            return movie_summary, df        \n",
    "    \n",
    "        except Exception as E:\n",
    "            print(E)\n",
    "\n",
    "    def generate_pivot(self,df):\n",
    "        try:\n",
    "            movie_mat = pd.pivot_table(df,values='Rating',index='User_Id',columns='Movie_Id')\n",
    "            return movie_mat\n",
    "        except Exception as E:\n",
    "            print(E)\n",
    "        \n",
    "    def read_movie_title(self):\n",
    "        '''reads file containing movie titles and creates another file where extra commas will not be there\n",
    "        By merging it with original dataframe, it gives us Movie database'''\n",
    "        try:\n",
    "            \n",
    "            with open('movie_titles.csv', 'r') as f1, open('movie_titles_good.csv', 'w') as f2:\n",
    "                for line in f1:\n",
    "                    first, middle,*last = line.split(',')\n",
    "                    f2.write(f'{first},{middle},{\"\".join(last)}')                     \n",
    "                    \n",
    "            df_title = pd.read_csv('movie_titles_good.csv', encoding = \"ISO-8859-1\", header = None, names = ['Movie_Id', 'Year', 'Name'])\n",
    "            df_title.set_index('Movie_Id', inplace = True)\n",
    "            \n",
    "            #movies_choice = self.movie_database(df)\n",
    "            \n",
    "            df2 = pd.merge(df, df_title, on = 'Movie_Id')            \n",
    "            \n",
    "            print(\"\\nMOVIE DATABASE available for finding recommendation:\\n\")\n",
    "            print(set(df2['Name']))\n",
    "            return df_title \n",
    "        except Exception as E:\n",
    "            print(E)   \n",
    "            \n",
    "            \n",
    "    def recommend(self, df_title, df_p, df_movie_summary, df):\n",
    "        '''Based on concept Pearson correlation it gives the recommendation\n",
    "        Usage: recommend(min_count, df_movie title, df_pivot, df_movie_summary, main_df)'''        \n",
    "        try:\n",
    "            movie_name = input('For recommendation please select any one movies from the above database:')            \n",
    "                       \n",
    "            if movie_name not in df_title.values:\n",
    "                print(\"Sorry.. for this movie we dont have any recommendation. Select movie from database only\")\n",
    "            else:\n",
    "                min_count = 0                \n",
    "                print('TOP 5 MOVIES RECOMMENDATION for : {}'.format(movie_name))\n",
    "                \n",
    "                movie_name_index = int(df_title.index[df_title['Name'] == movie_name][0])\n",
    "                df_p_movie_name = df_p[movie_name_index]\n",
    "                similar = df_p.corrwith(df_p_movie_name, method='pearson')\n",
    "            \n",
    "                res = pd.DataFrame(similar, columns=['PearsonR'])                \n",
    "                res = res.sort_values('PearsonR', ascending=False)                \n",
    "                res = res.join(df_title).join(df_movie_summary)[['PearsonR', 'Name', 'count', 'mean']]\n",
    "            \n",
    "                print(res[res['count'] > min_count][1:6].to_string(index=False))\n",
    "\n",
    "        except Exception as E:\n",
    "                print(E)"
   ]
  },
  {
   "cell_type": "code",
   "execution_count": 23,
   "id": "7a86209d",
   "metadata": {},
   "outputs": [],
   "source": [
    "ob = recommend_netflix()"
   ]
  },
  {
   "cell_type": "code",
   "execution_count": 24,
   "id": "2f4239ff",
   "metadata": {},
   "outputs": [],
   "source": [
    "df = ob.read_user_data()"
   ]
  },
  {
   "cell_type": "code",
   "execution_count": 25,
   "id": "acb2e08d",
   "metadata": {},
   "outputs": [
    {
     "name": "stdout",
     "output_type": "stream",
     "text": [
      "Total movies = 4499\n",
      "Total Users = 470758\n",
      "Rating count= 24053764\n"
     ]
    },
    {
     "data": {
      "image/png": "[encoded data removed]",
      "text/plain": [
       "<Figure size 1080x720 with 1 Axes>"
      ]
     },
     "metadata": {
      "needs_background": "light"
     },
     "output_type": "display_data"
    }
   ],
   "source": [
    "ob.EDA(df)"
   ]
  },
  {
   "cell_type": "code",
   "execution_count": 26,
   "id": "9dfb5ce6",
   "metadata": {},
   "outputs": [
    {
     "name": "stdout",
     "output_type": "stream",
     "text": [
      "Movie numpy: [1.000e+00 1.000e+00 1.000e+00 ... 4.499e+03 4.499e+03 4.499e+03]\n",
      "Length: 24053764\n"
     ]
    },
    {
     "name": "stderr",
     "output_type": "stream",
     "text": [
      "C:\\Users\\kmeen\\AppData\\Local\\Temp/ipykernel_1992/247898546.py:69: SettingWithCopyWarning: \n",
      "A value is trying to be set on a copy of a slice from a DataFrame.\n",
      "Try using .loc[row_indexer,col_indexer] = value instead\n",
      "\n",
      "See the caveats in the documentation: https://pandas.pydata.org/pandas-docs/stable/user_guide/indexing.html#returning-a-view-versus-a-copy\n",
      "  df['Movie_Id'] = movie_np.astype(int)\n"
     ]
    },
    {
     "name": "stdout",
     "output_type": "stream",
     "text": [
      "-Dataset examples-\n",
      "          User_Id  Rating  Movie_Id\n",
      "1         1488844     3.0         1\n",
      "5000996    501954     2.0       996\n",
      "10001962   404654     5.0      1962\n",
      "15002876   886608     2.0      2876\n",
      "20003825  1193835     2.0      3825\n"
     ]
    },
    {
     "name": "stderr",
     "output_type": "stream",
     "text": [
      "C:\\Users\\kmeen\\AppData\\Local\\Temp/ipykernel_1992/247898546.py:70: SettingWithCopyWarning: \n",
      "A value is trying to be set on a copy of a slice from a DataFrame.\n",
      "Try using .loc[row_indexer,col_indexer] = value instead\n",
      "\n",
      "See the caveats in the documentation: https://pandas.pydata.org/pandas-docs/stable/user_guide/indexing.html#returning-a-view-versus-a-copy\n",
      "  df['User_Id'] = df['User_Id'].astype(int)\n"
     ]
    }
   ],
   "source": [
    "df = ob.generate_movie_id(df)"
   ]
  },
  {
   "cell_type": "code",
   "execution_count": 27,
   "id": "102566bf",
   "metadata": {
    "scrolled": true
   },
   "outputs": [
    {
     "name": "stdout",
     "output_type": "stream",
     "text": [
      "Movie minimum times of review: 1799.0\n",
      "Original Shape: (24053764, 3)\n",
      "After Trim Shape: (17337458, 3)\n",
      "-Data Examples-\n",
      "          User_Id  Rating  Movie_Id\n",
      "696        712664     5.0         3\n",
      "6932490   1299309     5.0      1384\n",
      "13860273   400155     3.0      2660\n",
      "20766530   466962     4.0      3923\n"
     ]
    }
   ],
   "source": [
    "df_movie_summary, df = ob.reduce(df)"
   ]
  },
  {
   "cell_type": "code",
   "execution_count": 28,
   "id": "6bb9c828",
   "metadata": {},
   "outputs": [],
   "source": [
    "df_p = ob.generate_pivot(df)"
   ]
  },
  {
   "cell_type": "code",
   "execution_count": 29,
   "id": "ac1cf703",
   "metadata": {
    "scrolled": true
   },
   "outputs": [
    {
     "name": "stdout",
     "output_type": "stream",
     "text": [
      "\n",
      "MOVIE DATABASE available for finding recommendation:\n",
      "\n",
      "{'Jaws', 'Elephant', 'Dance with Me', 'Private Parts', 'Teaching Mrs. Tingle', 'Scandal', 'Forever Young', 'Salaam Bombay!', 'Swimfan', 'U2: Go Home: Live From Slane Castle Ireland', 'The Glass Menagerie', 'The Twilight Zone: Vol. 15', 'Justice League', 'SpongeBob SquarePants: Season 2', 'Network', 'Chain Reaction', 'Daredevil', 'Hudson Hawk', 'Mighty Quinn', 'VeggieTales: Esther the Girl Who Became Queen', \"MTV: Punk'd: Season 2\", 'Igby Goes Down', 'Silkwood', 'Calle 54', 'Swimming Pool', 'Sugar & Spice', \"Rosemary's Baby\", 'Robin Hood: Prince of Thieves', 'Legend of 1900', 'The In-Laws', 'Bride of Chucky', 'Shall We Dance?', 'The Simpsons: Bart Wars', 'Elf', 'The War Room', 'The Prophecy 2', 'Prime Suspect 1', 'Around the World in 80 Days', 'Immortal Beloved', 'Batman Beyond: Return of the Joker', 'Double Impact', 'Halloween II', 'Born Free', 'Tart', 'The Adventures of Elmo in Grouchland', 'The Unsinkable Molly Brown', 'Omen III: The Final Conflict', 'Six Feet Under: Season 4', 'The Hole', 'The Last Supper', 'Surviving Christmas', 'The Lawnmower Man', 'The Blob', 'Il Postino', 'The Family Man', 'Bill Cosby: Himself', 'Halloween: H2O', 'When Harry Met Sally', 'Beaches', 'Drop Dead Fred', 'The Cookout', 'Lilo and Stitch', 'Murder on the Orient Express', 'Justice League: Justice on Trial', 'Journey to the Center of the Earth', 'Saturday Night Live: The Best of Will Ferrell 2', 'Sleepless in Seattle', 'Farewell My Concubine', 'Funny Face', 'Gun Shy', 'Earthsea', 'Police Academy: Special Edition', 'Highway', 'Titan A.E.', 'The Three Musketeers', 'Unleashed', 'The Opposite of Sex', 'Here on Earth', 'The Brothers', 'Normal', 'Thirteen', 'Ed Wood', 'The Return', 'The Ghost and Mr. Chicken / The Reluctant Astronaut: Double Feature', 'Out for Justice', \"Murphy's Romance\", 'Wrongfully Accused', 'Bend It Like Beckham', 'Dolores Claiborne', 'The Original Latin Kings of Comedy', 'Xena: Warrior Princess: Season 3', 'The Spanish Prisoner', \"Pee-Wee's Playhouse: Vol. 1\", 'The Little Princess', 'Casper', 'NYPD Blue: Season 2', 'Shoot to Kill', 'Local Hero', 'Behind the Planet of the Apes', 'The Hand that Rocks the Cradle', 'Ali G Indahouse', 'Paper Moon', 'Dungeons & Dragons', 'Center Stage', \"Charlotte's Web\", 'Evelyn', 'Aladdin: Platinum Edition', 'Super Size Me', 'Black Orpheus', 'The Pope of Greenwich Village', 'The Ladykillers', 'Sunshine', 'The Odd Couple', 'The Omen', 'Beautiful Creatures', 'Spartan', 'The Way We Were', 'Fallen', 'The Sum of All Fears', 'The Incredibly True Adventure of 2 Girls in Love', 'Graveyard Shift', 'Fantasia 2000', 'The Hustler', 'Spice World', 'Narrow Margin', 'Stealing Harvard', 'The Silence of the Lambs', 'Kickboxer', 'The Simpsons: Treehouse of Horror', 'Angel: Season 4', 'Wonderfalls: The Complete Series', 'The Last Samurai', \"Pooh's Heffalump Movie\", 'Defending Your Life', 'Stargate SG-1: Season 7', 'Burnt by the Sun', 'Rose Red', 'Guarding Tess', 'Sirens', 'BASEketball', 'Last Man Standing', \"The Emperor's New Groove\", 'One False Move', 'Bad Boys', 'The Secret Garden', 'V: The Complete TV Series', 'MI-5: Vol. 2', 'Dangerous Minds', 'Jack', 'Left Behind II: Tribulation Force', 'Signs', 'Robin and Marian', 'Two Can Play That Game', 'Bean: The Movie', 'An Officer and a Gentleman', 'High and Low', 'Two Girls and a Guy', 'In the Mood for Love', 'The Shadow', \"I'm Not Scared\", 'I Love Lucy: Season 2', 'The Last Temptation of Christ', 'Bound', 'I Want to Live!', 'This Is Spinal Tap', 'Dr. T & the Women', 'Walkabout', 'Repo Man', 'The Twilight Zone: Vol. 3', 'Collateral Damage', 'Live From Baghdad', 'The Center of the World', 'A Nightmare on Elm Street', \"Alien: Collector's Edition\", 'Sideways', \"Look Who's Talking\", 'Black Adder', \"Aliens: Collector's Edition\", 'Dinosaur', 'The Best of Friends: Vol. 4', 'Serial Mom', 'A Streetcar Named Desire', 'Kicking & Screaming', 'The Last American Virgin', 'My Dinner with Andre', 'Batman Beyond: The Movie', 'Cube 2: Hypercube', 'The Ghost and the Darkness', 'Woman of the Year', 'Fast Cheap & Out of Control', 'Armed and Dangerous', \"Todd McFarlane's Spawn\", 'With a Friend Like Harry', 'Who is Cletis Tout?', 'Yu-Gi-Oh!: The Movie', 'Hard Boiled', 'Pirates of the Caribbean: The Curse of the Black Pearl', 'Tupac: Resurrection', 'Mumford', 'Armageddon', 'Jo Jo Dancer Your Life is Calling', \"Sullivan's Travels\", 'Addicted to Love', 'Sunshine State', 'The Bad News Bears', 'The X-Files: Season 9', 'Nine Dead Gay Guys', 'Exit to Eden', 'Saboteur', 'The Faculty', 'Ju-on: The Grudge', 'Spirited Away', 'Three Musketeers', 'Daughter from Danang: American Experience', 'Conan the Barbarian', 'The Limey', 'The Flintstones', 'Roger & Me', 'Animal Crackers', 'The Big Tease', 'The Motorcycle Diaries', \"ABC Primetime: Mel Gibson's The Passion of the Christ\", 'Club Dread', '1984', 'Imitation of Life: Double Feature (1934 1959)', 'Crooklyn', 'Bagdad Cafe', 'Cinderella II', 'CSI: Season 1', 'Chasing Amy', 'Nine Months', 'Alias: Season 4', 'Send Me No Flowers', 'Damien: Omen II', 'Kurt & Courtney', 'Shadow of the Vampire', 'Agnes Browne', 'Message in a Bottle', 'Friends: Season 2', 'American Beauty', \"Family Guy: Freakin' Sweet Collection\", 'Our Lady of the Assassins', 'The Day of the Jackal', 'The Horse Soldiers', 'Air Bud: World Pup', 'Aimee and Jaguar', 'Joy Ride', 'The Three Stooges: Merry Mavericks', 'The Poseidon Adventure', 'Children of the Corn', 'The Toxic Avenger', 'Buying the Cow', 'Liar Liar', 'Road to Perdition', 'Plump Fiction', 'The Great Race', 'House of the Spirits', 'Voices of Iraq', \"Pink Floyd: Live at Pompeii: Director's Cut\", 'Frankie and Johnny', \"Summer of '42\", 'Cocoon', 'Species II', 'Star Trek: Voyager: Season 5', 'Undisputed', \"King's Ransom\", 'Northern Exposure: Season 1', 'Little Nicky', 'Cowboy Bebop Remix', 'Kill Bill: Vol. 2', 'Extreme Measures', 'Ernest Goes to Jail', 'He Said She Said', 'Commando', 'The Mirror Has Two Faces', 'Primer', \"Don't Say a Word\", 'Strange Days', 'To Catch a Thief', 'The Flintstones in Viva Rock Vegas', 'Thunderheart', 'The Librarian: Quest for the Spear', 'Where Eagles Dare', 'The Deer Hunter', 'Naked Gun 2 1/2: The Smell of Fear', 'The Substitute/The Substitute 3', 'Man of the House', 'Batman: Mask of the Phantasm', 'Rollerball', 'Roswell: Season 2', 'Honey', 'Rocky V', 'Richie Rich', 'In Too Deep', 'Batman Begins', 'From Hell', 'Smallville: Season 1', 'Xena: Warrior Princess: Series Finale', 'Ned Kelly', 'Planet of the Apes', 'Friends: Season 6', \"Chappelle's Show: Season 1\", 'Nip/Tuck: Season 2', 'Superman IV: The Quest for Peace', 'Fright Night', 'Midnight Cowboy', 'The Long Walk Home', 'Muppets From Space', 'The Hunchback of Notre Dame II', 'A Lesson Before Dying', 'Predator 2', 'Rabbit-Proof Fence', 'Gross Anatomy', \"The Wizard of Oz: Collector's Edition\", 'The Vikings', 'Richard Pryor: Live on the Sunset Strip', 'Beautiful Thing', 'Black and White', \"The Devil's Own\", 'The Simpsons: Season 3', 'Splendor in the Grass', 'Grumpy Old Men', 'A Night at the Opera', 'My Favorite Wife', 'Uncovered: The Whole Truth About the Iraq War', 'Candyman 3: Day of the Dead', 'The Pianist', 'Shakes the Clown', 'King of the Hill: Season 1', \"Footloose: Special Collector's Edition\", 'Madeline', 'Ringu', 'Freddy vs. Jason', \"National Lampoon's Vacation\", 'The Man Without a Face', 'Kind Hearts and Coronets', 'Funny Lady', 'Walking Tall', 'Impostor', 'The Man Who Cried', 'VeggieTales Classics: Rack Shack and Benny', 'The Hunger', \"Scooby-Doo's Original Mysteries\", 'Notorious', 'Brassed Off', 'Led Zeppelin: The Song Remains the Same', 'The Impostors', 'Pocahontas', 'Joe Kidd', 'The Quiet Man', 'Biggie & Tupac', 'Three Days of the Condor', 'The Lord of the Rings', 'Flight of the Navigator', 'The Maltese Falcon', 'Better Off Dead', 'Carandiru', \"VeggieTales Classics: Where's God When I'm Scared?\", 'Ghosts of the Abyss', 'Abbott & Costello Meet the Mummy', 'Birdman of Alcatraz', 'Half Past Dead', 'Against the Ropes', 'Seven Samurai', 'The L Word: Season 2', 'Random Hearts', 'Annie: Special Anniversary Edition', 'Spy Kids 2: The Island of Lost Dreams', 'Cronos', 'On the Line', 'Secondhand Lions', \"George Carlin: George's Best Stuff\", 'My Bodyguard', 'Untamed Heart', 'On the Beach', 'Disturbing Behavior', 'Seems Like Old Times', 'Without a Trace: Season 1', 'Dinotopia', 'Army of Darkness', 'Wings of Desire', 'Red Dwarf: Series 3', \"Rory O'Shea Was Here\", 'Nobody Knows', 'Frida', 'He Got Game', 'Shane', 'A Christmas Carol', 'Friday After Next', 'Belly of the Beast', 'Abandon', 'Rookie of the Year', 'Dawn of the Dead', 'The Full Monty', 'Aguirre: The Wrath of God', 'Scream 3', 'The Longest Day', 'The Saddest Music in the World', 'The Accidental Tourist', 'Scooby-Doo Meets Batman', \"Outfoxed: Rupert Murdoch's War on Journalism\", 'Hercules', 'Polyester', 'Star Trek: The Next Generation: Season 7', 'The Best of Friends: Season 1', 'King of the Hill: Season 3', 'Michael Collins', 'Doctor Zhivago', 'Highlander: Season 4', 'Rambo: First Blood Part II', 'The Last Seduction', 'Wild Things', 'Walking and Talking', 'Scream', 'The Battle of Algiers', 'Marty', 'Carolina', 'The Mothman Prophecies', 'Lies', 'The Missing', 'Beauty Shop', 'The Twilight Zone: Vol. 16', 'Beverly Hills Cop', \"Dr. Seuss' The Cat in the Hat\", 'Nine to Five', 'Love Actually', '2 Fast 2 Furious', 'Psycho', 'Scorched', 'A Man Apart', 'Stargate SG-1: Season 2', 'Fatal Beauty', 'Cirque du Soleil: Varekai', 'The Sleeping Dictionary', 'Man on the Train', 'Threesome', 'Everybody Loves Raymond: Season 1', 'Beloved', 'Love in the Afternoon', 'Cousins', 'From the Earth to the Moon: The Signature Edition', 'Rififi', 'Y Tu Mama Tambien', 'Music of the Heart', 'Sordid Lives', 'The Twilight Zone: Vol. 42', 'Rudolph the Red-Nosed Reindeer', 'The Party', 'The Fabulous Baker Boys', 'Yellow Submarine', 'The Twilight Zone: Vol. 25', 'I Still Know What You Did Last Summer', 'How High', 'Barbarella', 'Ghost Dog: The Way of the Samurai', \"Singin' in the Rain\", 'Scratch', 'Sweet November', 'Zorro The Gay Blade', 'The Life Aquatic with Steve Zissou', 'All Quiet on the Western Front', 'Action Jackson', \"The Caveman's Valentine\", 'Futurama: Monster Robot Maniac Fun Collection', 'The Twilight Zone: Vol. 41', 'The Twilight Zone: Vol. 33', 'Blue Planet: IMAX', '9 1/2 Weeks', 'Cries and Whispers', 'Bananas', 'Together', 'A Little Princess', 'Quicksand', 'Knight Rider: Season 1', 'The Boxer', 'The Italian Job', 'Heaven & Earth', 'Lonesome Dove', 'The Big Red One: Special Edition', 'Hellraiser V: Inferno', 'Universal Soldier', 'Ararat', 'Porn Star: The Legend of Ron Jeremy', 'War Games', 'Captain Blood', 'Empire Falls', 'Fire in the Sky', 'The Fighting Seabees', 'The Third Man', 'People I Know', 'Rooster Cogburn', 'Clash of the Titans', 'Dead Man on Campus', 'Reindeer Games', 'Velvet Goldmine', 'The Passion of the Christ', 'Dersu Uzala', 'Sister Act 2: Back in the Habit', 'Highlander: Season 5', 'Les Miserables in Concert', 'How To Be A Player', 'Curb Your Enthusiasm: Season 3', 'Monty Python: The Life of Python', 'The Trip', 'Absolute Power', 'Life and Debt', 'Fletch Lives', \"Cheech & Chong's Up in Smoke\", 'Boyz N the Hood', 'The Wash', 'Reno 911: Season 2', 'Not Without My Daughter', 'The Hurricane', 'Amores Perros', 'Braveheart', 'The Santa Clause 2', 'A Nightmare on Elm Street 3: Dream Warriors', 'Cyborg', 'Trapped', 'Wallace & Gromit in Three Amazing Adventures', 'Starman', 'Night and Fog', 'The Blind Swordman: Zatoichi', 'The Hebrew Hammer', 'Ordinary People', 'Starship Troopers 2: Hero of the Federation', 'My Girl 2', 'Damn the Defiant', 'Trees Lounge', 'If These Walls Could Talk', 'The Seventh Seal', 'Elvira Mistress of the Dark', 'The Powerpuff Girls Movie', 'Scooby-Doo 2: Monsters Unleashed', 'Dark Victory', 'The Parent Trap', 'The Ice Storm', 'The Dead Zone: Season 2', 'Hackers', 'Dr. Dolittle 2', 'Once Bitten', 'Dark City', 'Talk Radio', 'Westworld', 'Look at Me', 'Strange Brew', \"Porky's\", 'Monkey Trouble', 'Larry the Cable Guy: Git-R-Done', 'The Best of Friends: Season 2', 'From Dusk Till Dawn 2: Texas Blood Money', 'The Green Berets', 'Inu-Yasha', 'Home Movie', 'In Living Color: Season 2', 'Finding Nemo (Widescreen)', 'Farinelli', 'Players Club', 'The Prince of Tides', 'Black Adder Back & Forth', 'The Great Gatsby', 'PCU', 'Pelle the Conqueror', 'Firestarter', 'The Brothers McMullen', 'The Last Shot', 'Cecil B. Demented', 'Under Siege', 'A Mighty Wind', 'Napoleon Dynamite', 'Jurassic Park III', 'Captain Pantoja and the Special Services', 'Owning Mahowny', 'Top Secret!', 'Dogma', 'Viva La Bam: Season 1', 'Yi Yi', \"Muriel's Wedding\", \"Things to Do in Denver When You're Dead\", 'Replicant', 'The Lady Eve', 'Under Suspicion', 'Me Myself I', 'One True Thing', 'The Taming of the Shrew', 'Ghost in the Shell', 'The Door in the Floor', 'The Onion Field', 'An Ideal Husband', 'How Green Was My Valley', 'A Beautiful Mind', 'The Talented Mr. Ripley', 'House of Sand and Fog', 'Black Dog', 'Evil Dead 2: Dead by Dawn', 'Halloween 5: The Revenge of Michael Myers', 'Hollow Man', 'Whale Rider', 'Sleepy Hollow', 'Being John Malkovich', 'Life', 'The Game', 'Like Water for Chocolate', 'Orgazmo', \"Recess: School's Out\", 'An Evening With Kevin Smith', 'The Cutting Edge', 'Waking Up in Reno', '10 Things I Hate About You', 'The Bourne Supremacy', 'I Think I Do', 'Mean Girls', 'X2: X-Men United', \"Stephen King's It!\", 'What Women Want', \"What's Up Tiger Lily?\", 'Lethal Weapon', 'I Can Do Bad All By Myself', 'Valentine', 'Escaflowne: The Movie', 'Le Cercle Rouge', 'The Truth About Charlie / Charade', 'Sixteen Candles', \"National Lampoon's Van Wilder\", 'The Snapper', \"Harrison's Flowers\", 'Invader Zim', 'Friday Night Lights', 'Return to Paradise', '13 Ghosts', 'The Warriors', 'Police Academy 2: Their First Assignment', 'The Mark of Zorro', 'Ace Ventura: When Nature Calls', 'Cry Freedom', 'Urban Cowboy', 'Nothing to Lose', 'The Pacifier', 'Little House on the Prairie: Season 2', 'Hollywood Shuffle', 'Town & Country', 'Sea of Love', 'Woman Thou Art Loosed', 'Punchline', 'My Neighbor Totoro', 'Double Team', 'Girls Just Want to Have Fun', 'Giant', 'In the Realm of the Senses', 'Bruce Almighty', 'House of Cards Trilogy II: To Play the King', \"That '70s Show: Season 1\", 'Hoop Dreams', 'Pride and Prejudice', 'To Have and Have Not', 'The Best Little Whorehouse in Texas', 'East/West', 'The Comancheros', 'The Wire: Season 1', 'Screamers', 'Geronimo: An American Legend', 'Curly Sue', 'The Legend', 'The Importance of Being Earnest', 'The Hunchback of Notre Dame', 'Alex and Emma', 'Little House on the Prairie: Season 6', 'The English Patient', 'Elizabeth', 'Sink the Bismarck', 'Regarding Henry', 'One Good Cop', 'So I Married an Axe Murderer', \"Something's Gotta Give\", 'All of Me', 'Dead Birds', 'Pretty Baby', 'Spy Kids', 'Jingle All the Way', 'Star 80', 'Bad Boys II', \"Michael Moore's The Awful Truth: Season 2\", 'Matewan', 'Tightrope', 'First Knight', 'Impromptu', 'End of the Century: The Story of the Ramones', 'The Enforcer', 'Taking Lives', 'Heathers', 'Poltergeist', 'The Mummy', 'Teen Wolf / Teen Wolf Too (Double Feature)', 'Upstairs Downstairs: Season 3', 'Woman on Top', 'Man Bites Dog', 'At Close Range', 'Seven Brides for Seven Brothers: 50th Anniversary Edition', 'Thief', 'Born Yesterday', '28 Days Later', 'The Lair of the White Worm', 'Frenzy', '11:14', 'Good Advice', 'The Golden Girls: Season 1', 'Princess Mononoke', 'Taxi', 'The Village', 'Ricochet', 'Death to Smoochy', 'I Love Lucy: Season 4', \"Logan's Run\", 'Unprecedented: The 2000 Presidential Election', \"101 Dalmatians II: Patch's London Adventure\", 'Saturday Night Live: The Best of Dana Carvey', 'The Thing From Another World', 'Dragonheart', 'All I Wanna Do', 'Leprechaun', 'The Twilight Zone: Vol. 19', 'The Trouble With Harry', 'Bottle Rocket', 'Jungle Fever', 'The Woman in Red', 'Ride with the Devil', \"The Devil's Backbone\", 'Rudy', 'Live Flesh', 'Spitfire Grill', 'My Science Project', 'Back to the Future Part III', 'Nausicaa of the Valley of the Wind', 'Simone', 'Gordy', 'MASH: Season 7', 'Stir Crazy', 'Lost: Season 1', 'Spun', 'Shanghai Triad', 'Red Sonja', 'Breathless', 'The Pagemaster', 'The Final Countdown', 'The Professional', 'The Santa Clause', 'White Squall', 'The Three Stooges: Nutty but Nice', 'The Last House on the Left', 'Outrageous Fortune', 'Runaway', 'All Creatures Great and Small: Series 1', 'Herbie Rides Again', 'Reservoir Dogs', 'Law & Order: Special Victims Unit: The First Year', 'Code of Silence', 'Birdy', 'My Family', 'Henry V', \"Dante's Peak\", 'The Avengers', 'The Magdalene Sisters', 'Trekkies', 'Who Framed Roger Rabbit?: Special Edition', 'House of Wax / The Mystery of the Wax Museum', 'Men in Black II', 'The Replacement Killers', 'Runaway Train', 'Star Trek: Enterprise: Season 1', 'The Longest Yard', 'Dinner Rush', 'Chocolat', 'Tae Guk Gi: The Brotherhood of War', 'Beverly Hills Cop III', \"Mo' Money\", 'Not One Less', 'Stargate SG-1: Season 8', 'Tampopo', 'Star Trek: The Next Generation: Season 5', 'Saving Grace', 'About Adam', 'American Psycho', 'Falling Down', 'The Killing', 'Citizen X', 'Harold and Kumar Go to White Castle', 'Garden State', 'Twin Dragons', 'Tremors 4: The Legend Begins', 'Gremlins 2: The New Batch', 'Dirty Work', 'Clerks', 'Rat Race', \"Look Who's Talking Too\", 'Tank Girl', 'The Amityville Horror', 'Bringing Out the Dead', 'A Home of Our Own', 'The Twilight Zone: Vol. 39', 'The Commitments', 'In Living Color: Season 3', 'Dead Ringers', 'Hostage', 'Superman: The Movie', 'The Bad and the Beautiful', 'Sleeping Beauty: Special Edition', 'The Two Jakes', 'Duplex (Widescreen)', 'Back to School', 'Fly Away Home', 'Tuck Everlasting', 'Absolutely Fabulous: Series 2', 'Pay It Forward', 'For the Boys', 'Concert for George', 'Domestic Disturbance', 'No Way Out', 'Switch', 'Wonder Boys', 'Good Guys Wear Black', 'Air Bud Spikes Back', 'Monsoon Wedding', 'The Final Cut', 'Lord of Illusions', 'Time Bandits', 'Indochine', 'Clockers', 'Youngblood', 'Below', 'Sex and the City: Season 4', 'Riding Giants', 'The Duellists', 'The Prime of Miss Jean Brodie', 'Bowling for Columbine', 'Disclosure', 'The Others', 'Hair', 'A Thousand Acres', 'Silver Bullet', 'The Deal', 'White', 'Planes Trains and Automobiles', 'Coupling: Season 1', 'Hard Eight', 'Innerspace', 'The 10th Kingdom', 'The Blues Brothers: Extended Cut', \"Foyle's War: Set 2\", '10', '18 Again', 'Identity', 'The Apple Dumpling Gang Rides Again', 'Persuasion', 'The Recruit', 'This Is My Father', 'A Fistful of Dollars', 'Get Your Stuff', 'The Twilight Zone: Vol. 37', 'Eat Drink Man Woman', 'Juice', 'The Piano', 'Southern Comfort', 'Krull', 'The Brady Bunch Movie', 'High Art', 'Death Becomes Her', 'Fifteen Minutes', 'The Legend 2', 'Aqua Teen Hunger Force: Vol. 1', 'As Time Goes By: Series 1 and 2', 'Death Wish', 'The Invisible Circus', 'American Pimp', \"Captain Corelli's Mandolin\", 'Meet the Browns', 'The Man Who Knew Too Much', 'All the Pretty Horses', 'Beauty and the Beast', 'The Lion King: Special Edition', 'Three Men and a Little Lady', 'Nosferatu: Original Version', 'Mostly Martha', 'The Rage: Carrie 2', 'Tales of the City', 'Monk: Season 2', 'Pollyanna', 'Nick of Time', 'Dial M for Murder', 'Mr. Magoo', 'Jade', 'Hysterical Blindness', 'Star Trek: The Motion Picture', 'The Big One', 'The Wind and the Lion', 'The Alamo', 'Stargate SG-1: Season 3', 'The Queens of Comedy', 'Crocodile Dundee 2', 'Happiness', 'Nightbreed', 'Mafia!', 'Fahrenheit 451', 'The West Wing: Season 3', 'The Mask: Special Edition', 'Lethal Weapon 3', 'Alias: Season 1', 'Get Real', 'Bride and Prejudice', 'Vampires', 'Terminator 2: Extreme Edition: Bonus Material', 'Marathon Man', 'The Stand', 'S.W.A.T.', 'In Dreams', 'Saved by the Bell: Season 1', 'To End All Wars', 'Unforgettable', 'Small Time Crooks', 'Undertow', 'Sense and Sensibility', '2010: The Year We Make Contact', 'The Trouble with Angels', 'Up at the Villa', 'Babylon 5: Season 4', 'The Seventh Sign', 'The Lonely Guy', 'The King and I', 'Young Black Stallion', 'Jason Goes to Hell', 'VeggieTales: The Ballad of Little Joe', 'Dragon: The Bruce Lee Story', 'While You Were Sleeping', 'Meet John Doe', 'Under Siege 2: Dark Territory', \"Wayne's World\", 'End of Days', 'The American President', 'First Kid', '7 Seconds', 'Walking with Dinosaurs', 'The Big Hit', 'Dr. Seuss: Green Eggs and Ham and Other Favorites', 'The Quest', 'The Computer Wore Tennis Shoes', 'Mansfield Park', 'Annie', 'For Your Eyes Only', 'The Other Side of Heaven', 'VeggieTales: Dave and the Giant Pickle', 'The King of Queens: Season 2', 'Hocus Pocus', 'Newsies', 'My Favorite Year', 'The Road to Wellville', 'Affliction', 'Creepshow', 'Eye of the Needle', '25th Hour', 'The Sixth Sense', 'Patch Adams', 'Farscape: Season 2', 'Playing God', 'Battleship Potemkin', 'Grateful Dawg', 'Casualties of War', 'Exodus', 'The Ballad of Jack and Rose', 'Ravenous', 'Crazy/Beautiful', 'Thin Line Between Love & Hate', 'The Color of Money', 'Star Trek: The Next Generation: Season 6', 'Bad Education', 'Comedian', 'City Lights', 'I Capture the Castle', 'The Osbournes: Season 1 (Uncensored)', 'Blade: Trinity', 'Radio Flyer', 'Morvern Callar', 'Rising Sun', \"Ripley's Game\", 'Jane Eyre', 'About Schmidt', 'Modern Times', 'Turbulence', 'Wolf', 'Poison Ivy 2', 'Star Trek: Voyager: Season 1', 'The Sting', 'Buffy the Vampire Slayer: Season 6', 'Jimmy Neutron: Boy Genius', 'The Wedding Planner', 'Deep Cover', 'He Loves Me He Loves Me Not', 'The Thomas Crown Affair', '200 Cigarettes', 'The Shop Around the Corner', 'The Scorpion King', 'Teenage Mutant Ninja Turtles III', 'Fear and Loathing in Las Vegas', 'Black Mask', \"Buffalo '66\", 'Half Baked', 'Into the Woods', 'The Fortune Cookie', 'The Women', 'The Education of Little Tree', 'Mean Creek', 'High Fidelity', 'A Dirty Shame', 'Jeff Foxworthy: Totally Committed', 'Nicholas Nickleby', 'Emma (Miniseries)', 'Stuart Little 2', 'The Muse', 'The Dangerous Lives of Altar Boys', 'Man on Fire', \"Bram Stoker's Dracula\", 'Silver Streak', \"America's Sweethearts\", 'Encino Man', 'State of Grace', 'Mystery Men', 'The Laramie Project', 'Rio Lobo', 'Masters of the Universe', 'American Psycho 2', 'The Twilight Zone: Vol. 27', 'Van Helsing: The London Assignment', \"Pete's Dragon\", 'Bedazzled', 'Fried Green Tomatoes', 'George Carlin: Carlin at Carnegie', 'Titanic', 'Neon Genesis Evangelion: The End of Evangelion', 'Original Sin', 'Scary Movie 2', 'Final Fantasy: The Spirits Within', 'Flatliners', 'Drunken Master', 'The Twilight Samurai', 'Food of Love', 'Talk to Her', 'Mortal Kombat: The Movie', 'Along Came Polly', 'The Ghost and Mrs. Muir', 'Lord of the Rings: The Fellowship of the Ring', 'Love Potion #9', 'Fame', 'On Golden Pond', 'Character', 'Testosterone', 'An American Rhapsody', 'Coach Carter', 'The Tuskegee Airmen', 'Invasion of the Body Snatchers', 'Freaky Friday', 'Winnie the Pooh: Springtime with Roo', 'Airplane II: The Sequel', 'Le Divorce', \"Von Ryan's Express\", 'What the #$*! Do We Know!?', 'Operation Pacific', 'Free Willy', 'Uprising', 'Little House on the Prairie: Season 3', 'Saw', 'Casino: 10th Anniversary Edition', 'In Good Company', 'Absolutely Fabulous: Series 5', 'Uptown Girls', 'To Gillian on her 37th Birthday', 'Rush Hour 2', \"Father's Little Dividend\", 'Shrek 2', 'Husbands and Wives', 'Cloak & Dagger', 'Home Alone 2: Lost in New York', 'Lock Stock and Two Smoking Barrels', 'The Cowboys', 'Soul Food: Season 1', 'The Vanishing', 'Tenchi the Movie: Tenchi Muyo! In Love', 'Goldfinger', 'Charade', 'Gilmore Girls: Season 3', 'Amazon Women on the Moon', 'Beyond Borders', 'Party Monster', 'Shanghai Noon', 'Shadow Magic', 'Quest for Fire', 'The Serpent and the Rainbow', 'The Perfect Storm', 'Superbabies: Baby Geniuses 2', 'My Man Godfrey', 'National Geographic: Beyond the Movie: The Lord of the Rings', 'American Wedding', 'Gerry', 'A Walk in the Clouds', 'Basquiat', 'Sphere', 'A Cinderella Story', 'The Rocky Horror Picture Show', 'Presumed Innocent', 'Lilies of the Field', 'Used Cars', \"The Devil's Brigade\", 'True Colors', \"Krippendorf's Tribe\", 'Saturday Night Live: The Best of Eddie Murphy', 'Coffee and Cigarettes', 'Judgment Day', 'Monkeybone', 'The Desert Fox', 'Speed', 'Police Academy 5: Assignment - Miami Beach', 'Jack Frost', 'Play it Again Sam', 'Major League', 'Gentlemen Prefer Blondes', \"Bridget Jones's Diary\", \"April Fool's Day\", 'Brother Bear (Theatrical Widescreen Version)', 'Holiday in the Sun', 'Freddy Got Fingered', 'Richard III', 'Cradle Will Rock', 'Dirty Rotten Scoundrels', 'THX 1138: Special Edition', 'The Scent of Green Papaya', 'Gilmore Girls: Season 1', 'Two Mules for Sister Sara', 'House of the Dead', 'Bringing Up Baby', 'The Matrix: Reloaded', 'A Love Song for Bobby Long', 'Arachnophobia', 'The Simpsons: Season 1', 'O Fantasma', 'Tape', 'Rob Roy', 'Children of a Lesser God', 'Spider-Man: The New Animated Series: Season 1', 'The Grifters', 'Confessions of a Teenage Drama Queen', 'I Spy', 'The Mists of Avalon', \"Blind Spot: Hitler's Secretary\", 'The Rundown', 'George Carlin: Personal Favorites', 'Parenthood', 'Millennium Actress', 'Hellbound: Hellraiser II', 'City by the Sea', 'Indiscreet', \"Dead Men Don't Wear Plaid\", 'Life or Something Like It', 'Party Monster: The Shockumentary', 'Serendipity', 'The Story of Us', 'Excess Baggage', 'The Looney Tunes Golden Collection: Vol. 1', 'All the Right Moves', 'Firefly', 'For Keeps', 'The Story of O', 'Escape from Alcatraz', 'Hellfighters', 'Inspector Gadget 2', 'Just Visiting', 'Training Day', 'Control Room', 'Ghost Ship', 'Where the Red Fern Grows', 'The Simpsons: Season 6', 'Queer as Folk: Season 1', 'Head in the Clouds', 'Ray', 'Baby Boom', 'Dear Frankie', 'Cujo', 'Pumpkin', 'The Love Letter', 'Irreversible', \"Marvin's Room\", 'The Sandlot 2', 'Like It Is', 'Better Than Sex', 'Four Weddings and a Funeral', \"A Hard Day's Night: Collector's Series\", 'Hook', 'Eddie and the Cruisers', 'Earth Girls Are Easy', 'The Twilight Zone: Vol. 12', 'Ever After: A Cinderella Story', 'Torch Song Trilogy', 'Mystery Science Theater 3000: The Wild World of Batwoman', 'Polish Wedding', 'Critters', 'Matilda: Special Edition', 'The Caine Mutiny', 'The Looney Tunes Golden Collection: Vol. 2', 'Frances', 'The Return of the Living Dead', 'Samurai Champloo', 'The Weather Underground', 'Yojimbo', 'Harlem Nights', 'D.A.R.Y.L.', 'Die Hard 2: Die Harder', 'Boy Meets World: Season 1', 'Hidden Agenda', 'The Closet', 'Life as a House', 'Star Trek: Deep Space Nine: Season 5', 'Romeo is Bleeding', 'George Carlin: Complaints and Grievances', 'The Hitcher', '24 Hour Party People', 'Saving Face', 'Fever Pitch', 'Stoked: The Rise and Fall of Gator', 'The Last Dragon', 'Stargate', 'Another Day in Paradise', 'Moonstruck', 'The Land Before Time VII: Stone of Cold Fire', 'Dragon Ball Z: Super Android 13', 'Mr. Show: Season 2', 'Never Die Alone', 'Congo', 'Finding Neverland', 'Children of the Corn 4: The Gathering', 'Maid to Order', 'His Secret Life', 'Police Academy 3: Back in Training', \"Alien: Resurrection: Collector's Edition\", 'The Dead Zone', 'Jason and the Argonauts', \"She's Having A Baby\", 'Bob Roberts', 'Bent', 'The Mighty', 'Undercover Blues', 'Samurai Trilogy 3: Duel at Ganryu Island', 'Northfork', 'The Princess Diaries (Fullscreen)', 'The Pledge', 'Blankman', \"Scooby-Doo's Spookiest Tales\", 'Grease 2', 'Cowboys & Angels', 'Six Degrees of Separation', 'The Flying Tigers', 'Dracula', 'Mannequin', 'The Toy', 'The Three Stooges: Sing a Song of Six Pants', 'Amarcord', 'Futurama: Vol. 1', 'The Fan', 'Beverly Hills Ninja', 'The Night of the Hunter', 'Going My Way / Holiday Inn', 'Existenz', 'North by Northwest', 'About a Boy', 'The Matrix: Revolutions', 'House of Cards Trilogy I: House of Cards', 'City of Ghosts', 'K-9', 'Tin Men', 'The Godfather Part II', 'Man on the Moon', 'Return of the Dragon', 'Barbershop', 'Batman: The Animated Series: Tales of the Dark Knight', 'Everybody Loves Raymond: Season 3', 'History of the World: Part 1', 'Passion Fish', 'Cirque du Soleil: Dralion', \"Monty Python's The Meaning of Life: Special Edition\", 'Blue Hawaii', 'Mississippi Burning', 'Flowers in the Attic', 'The Autobiography of Miss Jane Pittman', 'Blame It on Rio', 'The Song of Bernadette', 'Trigun', \"Spencer's Mountain\", 'Three to Tango', 'A Guy Thing', 'Scooby-Doo and the Monster of Mexico', 'U.S. Marshals', 'Boys and Girls', 'The Twilight Zone: Vol. 36', 'The Rookie', 'Enduring Love', 'Not Another Teen Movie', 'The Phantom of the Opera: Special Edition', 'Buffalo Soldiers', 'The Postman Always Rings Twice', \"The Hitchhiker's Guide to the Galaxy\", 'The O.C.: Season 1', 'The Chorus', 'The Addams Family', 'The Adventures of Rocky and Bullwinkle', 'Friday the 13th: Part 3', 'Exit Wounds', 'The Russians Are Coming The Russians Are Coming', 'Aspen Extreme', 'Mutiny on the Bounty', '50 First Dates', 'Trainspotting', 'Ghost', 'Great Balls of Fire!', 'The Program', 'The People vs. Larry Flynt', 'Solaris', 'Married... with Children: The Most Outrageous Episodes: Vol. 2', 'Blow Dry', 'Joe Versus the Volcano', 'Eternal Sunshine of the Spotless Mind', 'The Life & Death of Peter Sellers', 'Regular Guys', 'The Big Blue', 'Cop and a Half', 'Evolution', 'Best of The Muppet Show: Peter Sellers / John Cleese / Dudley Moore', 'The Sandlot', 'The Mouse That Roared', 'Mars Attacks!', 'The Tick: The Entire Series', 'Croupier', 'Missing in Action 2: The Beginning / Missing in Action 3: Braddock', 'Ginger Snaps Back: The Beginning', 'Superstar', 'Farscape: The Peacekeeper Wars', 'A Better Tomorrow II', 'The Kids in the Hall: Season 1'}\n"
     ]
    }
   ],
   "source": [
    "df_title = ob.read_movie_title()"
   ]
  },
  {
   "cell_type": "code",
   "execution_count": 30,
   "id": "7020bcc8",
   "metadata": {},
   "outputs": [
    {
     "name": "stdout",
     "output_type": "stream",
     "text": [
      "For recommendation please select any one movies from the above database:From the Earth to the Moon\n",
      "Sorry.. for this movie we dont have any recommendation. Select movie from database only\n"
     ]
    }
   ],
   "source": [
    "ob.recommend(df_title, df_p, df_movie_summary, df)"
   ]
  },
  {
   "cell_type": "code",
   "execution_count": 31,
   "id": "1f7d1f93",
   "metadata": {},
   "outputs": [
    {
     "name": "stdout",
     "output_type": "stream",
     "text": [
      "For recommendation please select any one movies from the above database:The Replacement Killers\n",
      "TOP 5 MOVIES RECOMMENDATION for : The Replacement Killers\n",
      " PearsonR                                                               Name  count     mean\n",
      " 0.463363 Missing in Action 2: The Beginning / Missing in Action 3: Braddock   2297 3.057466\n",
      " 0.453137                                                          First Kid   3566 3.586371\n",
      " 0.451943                                    The Substitute/The Substitute 3   2260 2.684513\n",
      " 0.451075                                                       Regular Guys   1931 3.372864\n",
      " 0.445062                                                        Double Team   2534 2.426598\n"
     ]
    }
   ],
   "source": [
    "ob.recommend(df_title, df_p, df_movie_summary, df)"
   ]
  },
  {
   "cell_type": "code",
   "execution_count": 32,
   "id": "ac727f5c",
   "metadata": {},
   "outputs": [
    {
     "name": "stdout",
     "output_type": "stream",
     "text": [
      "For recommendation please select any one movies from the above database:From the Earth to the Moon: The Signature Edition\n",
      "TOP 5 MOVIES RECOMMENDATION for : From the Earth to the Moon: The Signature Edition\n",
      " PearsonR                                    Name  count     mean\n",
      " 0.592384                        Samurai Champloo   2000 4.467500\n",
      " 0.558633 All Creatures Great and Small: Series 1   2327 3.938118\n",
      " 0.552622                                 Scratch   2418 3.833747\n",
      " 0.550516                          Voices of Iraq   2901 3.388487\n",
      " 0.535100                             Saving Face   2262 3.513705\n"
     ]
    }
   ],
   "source": [
    "ob.recommend(df_title, df_p, df_movie_summary, df)"
   ]
  }
 ],
 "metadata": {
  "kernelspec": {
   "display_name": "Python 3 (ipykernel)",
   "language": "python",
   "name": "python3"
  },
  "language_info": {
   "codemirror_mode": {
    "name": "ipython",
    "version": 3
   },
   "file_extension": ".py",
   "mimetype": "text/x-python",
   "name": "python",
   "nbconvert_exporter": "python",
   "pygments_lexer": "ipython3",
   "version": "3.9.7"
  }
 },
 "nbformat": 4,
 "nbformat_minor": 5
}
